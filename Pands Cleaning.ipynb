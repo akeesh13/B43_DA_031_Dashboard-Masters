{
 "cells": [
  {
   "cell_type": "code",
   "execution_count": 1,
   "id": "b79f6ba5-a14d-40a0-aaf3-4e0b5e1fe3da",
   "metadata": {},
   "outputs": [],
   "source": [
    "import pandas as pd"
   ]
  },
  {
   "cell_type": "code",
   "execution_count": 2,
   "id": "41435db0-66fa-4cba-9acf-2d98c4d2a02d",
   "metadata": {},
   "outputs": [
    {
     "data": {
      "text/html": [
       "<div>\n",
       "<style scoped>\n",
       "    .dataframe tbody tr th:only-of-type {\n",
       "        vertical-align: middle;\n",
       "    }\n",
       "\n",
       "    .dataframe tbody tr th {\n",
       "        vertical-align: top;\n",
       "    }\n",
       "\n",
       "    .dataframe thead th {\n",
       "        text-align: right;\n",
       "    }\n",
       "</style>\n",
       "<table border=\"1\" class=\"dataframe\">\n",
       "  <thead>\n",
       "    <tr style=\"text-align: right;\">\n",
       "      <th></th>\n",
       "      <th>title</th>\n",
       "      <th>type</th>\n",
       "      <th>genres</th>\n",
       "      <th>releaseYear</th>\n",
       "      <th>imdbId</th>\n",
       "      <th>imdbAverageRating</th>\n",
       "      <th>imdbNumVotes</th>\n",
       "      <th>availableCountries</th>\n",
       "    </tr>\n",
       "  </thead>\n",
       "  <tbody>\n",
       "    <tr>\n",
       "      <th>16026</th>\n",
       "      <td>NaN</td>\n",
       "      <td>tv</td>\n",
       "      <td>Documentary</td>\n",
       "      <td>2022.0</td>\n",
       "      <td>NaN</td>\n",
       "      <td>NaN</td>\n",
       "      <td>NaN</td>\n",
       "      <td>AD, AE, AG, AL, AO, AR, AT, AU, AZ, BA, BB, BE...</td>\n",
       "    </tr>\n",
       "    <tr>\n",
       "      <th>9747</th>\n",
       "      <td>Dafne</td>\n",
       "      <td>movie</td>\n",
       "      <td>Drama</td>\n",
       "      <td>2019.0</td>\n",
       "      <td>tt8452422</td>\n",
       "      <td>6.4</td>\n",
       "      <td>306.0</td>\n",
       "      <td>AL, AT, BA, BE, BG, CH, CZ, DE, EE, ES, FI, FR...</td>\n",
       "    </tr>\n",
       "    <tr>\n",
       "      <th>8665</th>\n",
       "      <td>Birds of Prey</td>\n",
       "      <td>movie</td>\n",
       "      <td>Action, Comedy, Crime</td>\n",
       "      <td>2020.0</td>\n",
       "      <td>tt7713068</td>\n",
       "      <td>6.1</td>\n",
       "      <td>269733.0</td>\n",
       "      <td>AD, CH, ES, FJ, HK, ID, IN, IT, JP, KR, MY, PH...</td>\n",
       "    </tr>\n",
       "    <tr>\n",
       "      <th>10634</th>\n",
       "      <td>Lady of the Damned Forest</td>\n",
       "      <td>movie</td>\n",
       "      <td>Adventure, Fantasy, Horror</td>\n",
       "      <td>2017.0</td>\n",
       "      <td>tt1837683</td>\n",
       "      <td>2.6</td>\n",
       "      <td>232.0</td>\n",
       "      <td>AT, BE, BG, CH, CY, CZ, DE, DK, EE, ES, FI, FR...</td>\n",
       "    </tr>\n",
       "    <tr>\n",
       "      <th>11860</th>\n",
       "      <td>Joyride</td>\n",
       "      <td>movie</td>\n",
       "      <td>Comedy, Drama</td>\n",
       "      <td>2022.0</td>\n",
       "      <td>tt13515090</td>\n",
       "      <td>6.1</td>\n",
       "      <td>2835.0</td>\n",
       "      <td>GB, GG, IE, MT</td>\n",
       "    </tr>\n",
       "    <tr>\n",
       "      <th>8794</th>\n",
       "      <td>The Package</td>\n",
       "      <td>movie</td>\n",
       "      <td>Comedy, Thriller</td>\n",
       "      <td>2018.0</td>\n",
       "      <td>tt7525778</td>\n",
       "      <td>5.6</td>\n",
       "      <td>21931.0</td>\n",
       "      <td>AD, AE, AG, AL, AO, AR, AT, AU, AZ, BA, BB, BE...</td>\n",
       "    </tr>\n",
       "    <tr>\n",
       "      <th>5411</th>\n",
       "      <td>Status: It's Complicated!</td>\n",
       "      <td>movie</td>\n",
       "      <td>Comedy, Romance</td>\n",
       "      <td>2013.0</td>\n",
       "      <td>tt3315416</td>\n",
       "      <td>5.1</td>\n",
       "      <td>60.0</td>\n",
       "      <td>PH</td>\n",
       "    </tr>\n",
       "    <tr>\n",
       "      <th>16623</th>\n",
       "      <td>Diary of Tootsies</td>\n",
       "      <td>tv</td>\n",
       "      <td>Comedy, Drama, Romance</td>\n",
       "      <td>2016.0</td>\n",
       "      <td>tt6453014</td>\n",
       "      <td>7.5</td>\n",
       "      <td>168.0</td>\n",
       "      <td>TH</td>\n",
       "    </tr>\n",
       "    <tr>\n",
       "      <th>13827</th>\n",
       "      <td>The Shop at Sly Corner</td>\n",
       "      <td>movie</td>\n",
       "      <td>Drama, Thriller</td>\n",
       "      <td>1946.0</td>\n",
       "      <td>tt0265744</td>\n",
       "      <td>7.0</td>\n",
       "      <td>95.0</td>\n",
       "      <td>AT, BE, BG, CZ, DE, DK, EE, ES, FI, FR, GR, HR...</td>\n",
       "    </tr>\n",
       "    <tr>\n",
       "      <th>7596</th>\n",
       "      <td>Le grand bidule</td>\n",
       "      <td>movie</td>\n",
       "      <td>Comedy</td>\n",
       "      <td>1967.0</td>\n",
       "      <td>tt0141140</td>\n",
       "      <td>4.0</td>\n",
       "      <td>52.0</td>\n",
       "      <td>MT</td>\n",
       "    </tr>\n",
       "  </tbody>\n",
       "</table>\n",
       "</div>"
      ],
      "text/plain": [
       "                           title   type                      genres  \\\n",
       "16026                        NaN     tv                 Documentary   \n",
       "9747                       Dafne  movie                       Drama   \n",
       "8665               Birds of Prey  movie       Action, Comedy, Crime   \n",
       "10634  Lady of the Damned Forest  movie  Adventure, Fantasy, Horror   \n",
       "11860                    Joyride  movie               Comedy, Drama   \n",
       "8794                 The Package  movie            Comedy, Thriller   \n",
       "5411   Status: It's Complicated!  movie             Comedy, Romance   \n",
       "16623          Diary of Tootsies     tv      Comedy, Drama, Romance   \n",
       "13827     The Shop at Sly Corner  movie             Drama, Thriller   \n",
       "7596             Le grand bidule  movie                      Comedy   \n",
       "\n",
       "       releaseYear      imdbId  imdbAverageRating  imdbNumVotes  \\\n",
       "16026       2022.0         NaN                NaN           NaN   \n",
       "9747        2019.0   tt8452422                6.4         306.0   \n",
       "8665        2020.0   tt7713068                6.1      269733.0   \n",
       "10634       2017.0   tt1837683                2.6         232.0   \n",
       "11860       2022.0  tt13515090                6.1        2835.0   \n",
       "8794        2018.0   tt7525778                5.6       21931.0   \n",
       "5411        2013.0   tt3315416                5.1          60.0   \n",
       "16623       2016.0   tt6453014                7.5         168.0   \n",
       "13827       1946.0   tt0265744                7.0          95.0   \n",
       "7596        1967.0   tt0141140                4.0          52.0   \n",
       "\n",
       "                                      availableCountries  \n",
       "16026  AD, AE, AG, AL, AO, AR, AT, AU, AZ, BA, BB, BE...  \n",
       "9747   AL, AT, BA, BE, BG, CH, CZ, DE, EE, ES, FI, FR...  \n",
       "8665   AD, CH, ES, FJ, HK, ID, IN, IT, JP, KR, MY, PH...  \n",
       "10634  AT, BE, BG, CH, CY, CZ, DE, DK, EE, ES, FI, FR...  \n",
       "11860                                     GB, GG, IE, MT  \n",
       "8794   AD, AE, AG, AL, AO, AR, AT, AU, AZ, BA, BB, BE...  \n",
       "5411                                                  PH  \n",
       "16623                                                 TH  \n",
       "13827  AT, BE, BG, CZ, DE, DK, EE, ES, FI, FR, GR, HR...  \n",
       "7596                                                  MT  "
      ]
     },
     "execution_count": 2,
     "metadata": {},
     "output_type": "execute_result"
    }
   ],
   "source": [
    "df = pd.read_csv('data.csv')\n",
    "df.sample(10)"
   ]
  },
  {
   "cell_type": "code",
   "execution_count": 3,
   "id": "cc4f23b9-bf29-459f-a45b-fc6980678a76",
   "metadata": {},
   "outputs": [],
   "source": [
    "df = df.drop(columns = ['imdbId'])"
   ]
  },
  {
   "cell_type": "code",
   "execution_count": 4,
   "id": "03f31b84-742d-44e8-846a-f3c5c2e0c718",
   "metadata": {},
   "outputs": [],
   "source": [
    "df= df.rename(columns={\n",
    "    \"title\": \"Movie_Title\",\n",
    "    \"type\": \"Content_Type\",\n",
    "    \"genres\": \"Genres\",\n",
    "    \"releaseYear\": \"Release_Year\",\n",
    "    \"imdbAverageRating\": \"IMDB_Rating\",\n",
    "    \"imdbNumVotes\": \"IMDB_Votes\",\n",
    "    \"availableCountries\": \"Available_Countries\"})"
   ]
  },
  {
   "cell_type": "code",
   "execution_count": 5,
   "id": "f8106cc5-b26b-41c6-a0a9-66888c74385f",
   "metadata": {},
   "outputs": [
    {
     "data": {
      "text/plain": [
       "Index(['Movie_Title', 'Content_Type', 'Genres', 'Release_Year', 'IMDB_Rating',\n",
       "       'IMDB_Votes', 'Available_Countries'],\n",
       "      dtype='object')"
      ]
     },
     "execution_count": 5,
     "metadata": {},
     "output_type": "execute_result"
    }
   ],
   "source": [
    "df.columns"
   ]
  },
  {
   "cell_type": "code",
   "execution_count": 6,
   "id": "c45d84cc-a22f-4d4e-8375-db156cac9df0",
   "metadata": {},
   "outputs": [
    {
     "name": "stdout",
     "output_type": "stream",
     "text": [
      "<class 'pandas.core.frame.DataFrame'>\n",
      "RangeIndex: 20148 entries, 0 to 20147\n",
      "Data columns (total 7 columns):\n",
      " #   Column               Non-Null Count  Dtype  \n",
      "---  ------               --------------  -----  \n",
      " 0   Movie_Title          19632 non-null  object \n",
      " 1   Content_Type         20148 non-null  object \n",
      " 2   Genres               19886 non-null  object \n",
      " 3   Release_Year         20133 non-null  float64\n",
      " 4   IMDB_Rating          18727 non-null  float64\n",
      " 5   IMDB_Votes           18727 non-null  float64\n",
      " 6   Available_Countries  20148 non-null  object \n",
      "dtypes: float64(3), object(4)\n",
      "memory usage: 1.1+ MB\n"
     ]
    }
   ],
   "source": [
    "df.info()"
   ]
  },
  {
   "cell_type": "code",
   "execution_count": 7,
   "id": "b4fd8a63-b57f-4687-84c9-947ec9e27ec8",
   "metadata": {},
   "outputs": [
    {
     "data": {
      "text/plain": [
       "Movie_Title             516\n",
       "Content_Type              0\n",
       "Genres                  262\n",
       "Release_Year             15\n",
       "IMDB_Rating            1421\n",
       "IMDB_Votes             1421\n",
       "Available_Countries       0\n",
       "dtype: int64"
      ]
     },
     "execution_count": 7,
     "metadata": {},
     "output_type": "execute_result"
    }
   ],
   "source": [
    "df.isna().sum()"
   ]
  },
  {
   "cell_type": "code",
   "execution_count": 8,
   "id": "78568269-b14b-4918-8827-f9cef3f4b9ea",
   "metadata": {},
   "outputs": [
    {
     "data": {
      "text/plain": [
       "Movie_Title            2.561048\n",
       "Content_Type           0.000000\n",
       "Genres                 1.300377\n",
       "Release_Year           0.074449\n",
       "IMDB_Rating            7.052809\n",
       "IMDB_Votes             7.052809\n",
       "Available_Countries    0.000000\n",
       "dtype: float64"
      ]
     },
     "execution_count": 8,
     "metadata": {},
     "output_type": "execute_result"
    }
   ],
   "source": [
    "df.isna().mean() * 100"
   ]
  },
  {
   "cell_type": "code",
   "execution_count": 9,
   "id": "264d3f2e-61c0-4a68-ae84-b041e094a7be",
   "metadata": {},
   "outputs": [],
   "source": [
    "df = df.drop_duplicates()"
   ]
  },
  {
   "cell_type": "code",
   "execution_count": 10,
   "id": "0471607b-98c5-40d5-9278-1e91c2cd1b20",
   "metadata": {},
   "outputs": [
    {
     "data": {
      "text/plain": [
       "Movie_Title            2.153110\n",
       "Content_Type           0.000000\n",
       "Genres                 1.260965\n",
       "Release_Year           0.074761\n",
       "IMDB_Rating            6.663676\n",
       "IMDB_Votes             6.663676\n",
       "Available_Countries    0.000000\n",
       "dtype: float64"
      ]
     },
     "execution_count": 10,
     "metadata": {},
     "output_type": "execute_result"
    }
   ],
   "source": [
    "df.isna().mean() * 100"
   ]
  },
  {
   "cell_type": "code",
   "execution_count": 11,
   "id": "c3fd987d-ccb9-41fd-8b94-fcd032197a71",
   "metadata": {},
   "outputs": [
    {
     "data": {
      "text/plain": [
       "Movie_Title              0\n",
       "Content_Type             0\n",
       "Genres                 138\n",
       "Release_Year             0\n",
       "IMDB_Rating            903\n",
       "IMDB_Votes             903\n",
       "Available_Countries      0\n",
       "dtype: int64"
      ]
     },
     "execution_count": 11,
     "metadata": {},
     "output_type": "execute_result"
    }
   ],
   "source": [
    "df = df.dropna(subset=[\"Movie_Title\",\"Release_Year\"])\n",
    "df.isna().sum()"
   ]
  },
  {
   "cell_type": "code",
   "execution_count": 12,
   "id": "7aa9c820-1c47-45cd-b462-2b108b1a469f",
   "metadata": {},
   "outputs": [],
   "source": [
    "df[\"Genres\"]= df[\"Genres\"].fillna(\"Unknown\")"
   ]
  },
  {
   "cell_type": "code",
   "execution_count": 13,
   "id": "fa2149e1-04b8-452f-bc8d-cb21d6d265a8",
   "metadata": {},
   "outputs": [
    {
     "data": {
      "text/plain": [
       "Movie_Title              0\n",
       "Content_Type             0\n",
       "Genres                   0\n",
       "Release_Year             0\n",
       "IMDB_Rating            903\n",
       "IMDB_Votes             903\n",
       "Available_Countries      0\n",
       "dtype: int64"
      ]
     },
     "execution_count": 13,
     "metadata": {},
     "output_type": "execute_result"
    }
   ],
   "source": [
    "df.isna().sum()"
   ]
  },
  {
   "cell_type": "code",
   "execution_count": 14,
   "id": "7742def0-9aa6-436b-bfb0-cc970b6bbebf",
   "metadata": {},
   "outputs": [],
   "source": [
    "df[[\"IMDB_Rating\",\"IMDB_Votes\"]]=df[[\"IMDB_Rating\",\"IMDB_Votes\"]].fillna(0)"
   ]
  },
  {
   "cell_type": "code",
   "execution_count": 15,
   "id": "0f20ede2-8cbf-4118-b634-b85b8ed67367",
   "metadata": {},
   "outputs": [
    {
     "data": {
      "text/plain": [
       "Movie_Title            0\n",
       "Content_Type           0\n",
       "Genres                 0\n",
       "Release_Year           0\n",
       "IMDB_Rating            0\n",
       "IMDB_Votes             0\n",
       "Available_Countries    0\n",
       "dtype: int64"
      ]
     },
     "execution_count": 15,
     "metadata": {},
     "output_type": "execute_result"
    }
   ],
   "source": [
    "df.isna().sum()"
   ]
  },
  {
   "cell_type": "code",
   "execution_count": 16,
   "id": "a9701c05-d36b-43f2-b460-734a9773a90e",
   "metadata": {},
   "outputs": [],
   "source": [
    "df = df.assign(Genres=df['Genres'].str.split(', ')).explode('Genres')"
   ]
  },
  {
   "cell_type": "code",
   "execution_count": 17,
   "id": "6a663c3c-2f2e-45a5-b427-e60843b91a55",
   "metadata": {},
   "outputs": [],
   "source": [
    "df = df.assign(Available_Countries=df['Available_Countries'].str.split(', ')).explode('Available_Countries')"
   ]
  },
  {
   "cell_type": "code",
   "execution_count": 18,
   "id": "8cb29c31-5b1a-4554-8cf7-456a138ceaf8",
   "metadata": {},
   "outputs": [
    {
     "data": {
      "text/html": [
       "<div>\n",
       "<style scoped>\n",
       "    .dataframe tbody tr th:only-of-type {\n",
       "        vertical-align: middle;\n",
       "    }\n",
       "\n",
       "    .dataframe tbody tr th {\n",
       "        vertical-align: top;\n",
       "    }\n",
       "\n",
       "    .dataframe thead th {\n",
       "        text-align: right;\n",
       "    }\n",
       "</style>\n",
       "<table border=\"1\" class=\"dataframe\">\n",
       "  <thead>\n",
       "    <tr style=\"text-align: right;\">\n",
       "      <th></th>\n",
       "      <th>Movie_Title</th>\n",
       "      <th>Content_Type</th>\n",
       "      <th>Genres</th>\n",
       "      <th>Release_Year</th>\n",
       "      <th>IMDB_Rating</th>\n",
       "      <th>IMDB_Votes</th>\n",
       "      <th>Available_Countries</th>\n",
       "    </tr>\n",
       "  </thead>\n",
       "  <tbody>\n",
       "    <tr>\n",
       "      <th>0</th>\n",
       "      <td>Forrest Gump</td>\n",
       "      <td>movie</td>\n",
       "      <td>Drama</td>\n",
       "      <td>1994.0</td>\n",
       "      <td>8.8</td>\n",
       "      <td>2316353.0</td>\n",
       "      <td>MX</td>\n",
       "    </tr>\n",
       "    <tr>\n",
       "      <th>0</th>\n",
       "      <td>Forrest Gump</td>\n",
       "      <td>movie</td>\n",
       "      <td>Romance</td>\n",
       "      <td>1994.0</td>\n",
       "      <td>8.8</td>\n",
       "      <td>2316353.0</td>\n",
       "      <td>MX</td>\n",
       "    </tr>\n",
       "    <tr>\n",
       "      <th>1</th>\n",
       "      <td>The Fifth Element</td>\n",
       "      <td>movie</td>\n",
       "      <td>Action</td>\n",
       "      <td>1997.0</td>\n",
       "      <td>7.6</td>\n",
       "      <td>517121.0</td>\n",
       "      <td>AT</td>\n",
       "    </tr>\n",
       "    <tr>\n",
       "      <th>1</th>\n",
       "      <td>The Fifth Element</td>\n",
       "      <td>movie</td>\n",
       "      <td>Action</td>\n",
       "      <td>1997.0</td>\n",
       "      <td>7.6</td>\n",
       "      <td>517121.0</td>\n",
       "      <td>CH</td>\n",
       "    </tr>\n",
       "    <tr>\n",
       "      <th>1</th>\n",
       "      <td>The Fifth Element</td>\n",
       "      <td>movie</td>\n",
       "      <td>Action</td>\n",
       "      <td>1997.0</td>\n",
       "      <td>7.6</td>\n",
       "      <td>517121.0</td>\n",
       "      <td>DE</td>\n",
       "    </tr>\n",
       "  </tbody>\n",
       "</table>\n",
       "</div>"
      ],
      "text/plain": [
       "         Movie_Title Content_Type   Genres  Release_Year  IMDB_Rating  \\\n",
       "0       Forrest Gump        movie    Drama        1994.0          8.8   \n",
       "0       Forrest Gump        movie  Romance        1994.0          8.8   \n",
       "1  The Fifth Element        movie   Action        1997.0          7.6   \n",
       "1  The Fifth Element        movie   Action        1997.0          7.6   \n",
       "1  The Fifth Element        movie   Action        1997.0          7.6   \n",
       "\n",
       "   IMDB_Votes Available_Countries  \n",
       "0   2316353.0                  MX  \n",
       "0   2316353.0                  MX  \n",
       "1    517121.0                  AT  \n",
       "1    517121.0                  CH  \n",
       "1    517121.0                  DE  "
      ]
     },
     "execution_count": 18,
     "metadata": {},
     "output_type": "execute_result"
    }
   ],
   "source": [
    "df.head()"
   ]
  },
  {
   "cell_type": "code",
   "execution_count": 19,
   "id": "35f4342a-89b5-40a0-8e63-d692370140a5",
   "metadata": {},
   "outputs": [],
   "source": [
    "df[\"Release_Year\"] = df[\"Release_Year\"].astype(\"Int64\") "
   ]
  },
  {
   "cell_type": "code",
   "execution_count": 20,
   "id": "4a1a4ae7-b71f-46a1-b0a1-4c7deafe5d01",
   "metadata": {},
   "outputs": [
    {
     "data": {
      "text/html": [
       "<div>\n",
       "<style scoped>\n",
       "    .dataframe tbody tr th:only-of-type {\n",
       "        vertical-align: middle;\n",
       "    }\n",
       "\n",
       "    .dataframe tbody tr th {\n",
       "        vertical-align: top;\n",
       "    }\n",
       "\n",
       "    .dataframe thead th {\n",
       "        text-align: right;\n",
       "    }\n",
       "</style>\n",
       "<table border=\"1\" class=\"dataframe\">\n",
       "  <thead>\n",
       "    <tr style=\"text-align: right;\">\n",
       "      <th></th>\n",
       "      <th>Movie_Title</th>\n",
       "      <th>Content_Type</th>\n",
       "      <th>Genres</th>\n",
       "      <th>Release_Year</th>\n",
       "      <th>IMDB_Rating</th>\n",
       "      <th>IMDB_Votes</th>\n",
       "      <th>Available_Countries</th>\n",
       "    </tr>\n",
       "  </thead>\n",
       "  <tbody>\n",
       "    <tr>\n",
       "      <th>0</th>\n",
       "      <td>Forrest Gump</td>\n",
       "      <td>movie</td>\n",
       "      <td>Drama</td>\n",
       "      <td>1994</td>\n",
       "      <td>8.8</td>\n",
       "      <td>2316353.0</td>\n",
       "      <td>MX</td>\n",
       "    </tr>\n",
       "    <tr>\n",
       "      <th>0</th>\n",
       "      <td>Forrest Gump</td>\n",
       "      <td>movie</td>\n",
       "      <td>Romance</td>\n",
       "      <td>1994</td>\n",
       "      <td>8.8</td>\n",
       "      <td>2316353.0</td>\n",
       "      <td>MX</td>\n",
       "    </tr>\n",
       "    <tr>\n",
       "      <th>1</th>\n",
       "      <td>The Fifth Element</td>\n",
       "      <td>movie</td>\n",
       "      <td>Action</td>\n",
       "      <td>1997</td>\n",
       "      <td>7.6</td>\n",
       "      <td>517121.0</td>\n",
       "      <td>AT</td>\n",
       "    </tr>\n",
       "    <tr>\n",
       "      <th>1</th>\n",
       "      <td>The Fifth Element</td>\n",
       "      <td>movie</td>\n",
       "      <td>Action</td>\n",
       "      <td>1997</td>\n",
       "      <td>7.6</td>\n",
       "      <td>517121.0</td>\n",
       "      <td>CH</td>\n",
       "    </tr>\n",
       "    <tr>\n",
       "      <th>1</th>\n",
       "      <td>The Fifth Element</td>\n",
       "      <td>movie</td>\n",
       "      <td>Action</td>\n",
       "      <td>1997</td>\n",
       "      <td>7.6</td>\n",
       "      <td>517121.0</td>\n",
       "      <td>DE</td>\n",
       "    </tr>\n",
       "  </tbody>\n",
       "</table>\n",
       "</div>"
      ],
      "text/plain": [
       "         Movie_Title Content_Type   Genres  Release_Year  IMDB_Rating  \\\n",
       "0       Forrest Gump        movie    Drama          1994          8.8   \n",
       "0       Forrest Gump        movie  Romance          1994          8.8   \n",
       "1  The Fifth Element        movie   Action          1997          7.6   \n",
       "1  The Fifth Element        movie   Action          1997          7.6   \n",
       "1  The Fifth Element        movie   Action          1997          7.6   \n",
       "\n",
       "   IMDB_Votes Available_Countries  \n",
       "0   2316353.0                  MX  \n",
       "0   2316353.0                  MX  \n",
       "1    517121.0                  AT  \n",
       "1    517121.0                  CH  \n",
       "1    517121.0                  DE  "
      ]
     },
     "execution_count": 20,
     "metadata": {},
     "output_type": "execute_result"
    }
   ],
   "source": [
    "df.head()"
   ]
  },
  {
   "cell_type": "code",
   "execution_count": 21,
   "id": "17d559ea-c912-4fcf-8f77-08970edd7004",
   "metadata": {},
   "outputs": [],
   "source": [
    "df.to_csv(\"movies_data.csv\", index=False)"
   ]
  }
 ],
 "metadata": {
  "kernelspec": {
   "display_name": "Python 3 (ipykernel)",
   "language": "python",
   "name": "python3"
  },
  "language_info": {
   "codemirror_mode": {
    "name": "ipython",
    "version": 3
   },
   "file_extension": ".py",
   "mimetype": "text/x-python",
   "name": "python",
   "nbconvert_exporter": "python",
   "pygments_lexer": "ipython3",
   "version": "3.12.7"
  }
 },
 "nbformat": 4,
 "nbformat_minor": 5
}
